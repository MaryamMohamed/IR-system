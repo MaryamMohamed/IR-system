{
 "cells": [
  {
   "cell_type": "code",
   "execution_count": 1,
   "metadata": {},
   "outputs": [],
   "source": [
    "# run this cell to import nltk\n",
    "import nltk\n",
    "from os import getcwd\n",
    "import numpy as np\n",
    "import pandas as pd\n",
    "import re\n",
    "from collections import Counter"
   ]
  },
  {
   "cell_type": "code",
   "execution_count": 2,
   "metadata": {},
   "outputs": [],
   "source": [
    "import re\n",
    "import string\n",
    "import numpy as np\n",
    "\n",
    "from nltk.corpus import stopwords\n",
    "from nltk.stem import PorterStemmer\n",
    "from nltk.tokenize import TweetTokenizer\n",
    "\n",
    "#Normalization and tokenization\n",
    "\n",
    "def process_tweet(tweet):\n",
    "    \"\"\"Process tweet function.\n",
    "    Input:\n",
    "        tweet: a string containing a tweet\n",
    "    Output:\n",
    "        tweets_clean: a list of words containing the processed tweet\n",
    "\n",
    "    \"\"\"\n",
    "    stemmer = PorterStemmer()\n",
    "    stopwords_english = stopwords.words('english')\n",
    "    # remove stock market tickers like $GE\n",
    "    tweet = re.sub(r'\\$\\w*', '', tweet)\n",
    "    # remove old style retweet text \"RT\"\n",
    "    tweet = re.sub(r'^RT[\\s]+', '', tweet)\n",
    "    # remove hyperlinks\n",
    "    tweet = re.sub(r'https?:\\/\\/.*[\\r\\n]*', '', tweet)\n",
    "    # remove hashtags\n",
    "    # only removing the hash # sign from the word\n",
    "    tweet = re.sub(r'#', '', tweet)\n",
    "    # tokenize tweets\n",
    "    tokenizer = TweetTokenizer(preserve_case=False, strip_handles=True,\n",
    "                               reduce_len=True)\n",
    "    tweet_tokens = tokenizer.tokenize(tweet)\n",
    "\n",
    "    tweets_clean = []\n",
    "    for word in tweet_tokens:\n",
    "        if (word not in stopwords_english and  # remove stopwords\n",
    "                word not in string.punctuation):  # remove punctuation\n",
    "            # tweets_clean.append(word)\n",
    "            stem_word = stemmer.stem(word)  # stemming word\n",
    "            tweets_clean.append(stem_word)\n",
    "\n",
    "    return tweets_clean"
   ]
  },
  {
   "cell_type": "code",
   "execution_count": 3,
   "metadata": {},
   "outputs": [
    {
     "name": "stdout",
     "output_type": "stream",
     "text": [
      "['tweet0.txt', 'tweet1.txt', 'tweet2.txt', 'tweet3.txt', 'tweet4.txt', 'tweet5.txt', 'tweet6.txt', 'tweet7.txt', 'tweet8.txt', 'tweet9.txt']\n"
     ]
    }
   ],
   "source": [
    "import os\n",
    "dirFiles = os.listdir('E:\\\\college\\\\level.4\\\\first term\\\\IR\\\\project\\\\myPartProject\\\\Dataset')\n",
    "print(dirFiles)\n"
   ]
  },
  {
   "cell_type": "code",
   "execution_count": 6,
   "metadata": {},
   "outputs": [
    {
     "name": "stdout",
     "output_type": "stream",
     "text": [
      "[['movi', 'poorli', 'written', 'direct', 'fell', 'asleep', '30', 'minut', 'movi', 'joke', 'movi', 'corni', 'even', 'though', 'plot', 'interest', 'angl', 'far', 'fetch', 'point', 'ridicul', '11', 'older', 'overlook', 'write', 'movi', 'disappoint', '10', 'younger', 'film', 'captur', 'attent', 'amaz', 'stunt', 'might', 'add', 'poorli', 'done', 'wish', 'warrior', 'cast', 'movi', 'good', 'music', 'disappoint', 'like', 'tri', 'build', 'tension', 'fit', 'scale', '1-10', '10', 'excel', '1', 'horribl', 'act', 'movi', '4', 'brenda', 'song', 'talent', 'comedi', 'kind', 'movi', 'seriou', 'scene', 'act', 'laughabl', 'made', 'fight', 'pose', 'start', 'laugh', 'loud', 'think', 'worst', 'thing', 'movi', 'definit', 'direct', 'exampl', 'part', 'enemi', 'turn', 'person', 'evil', 'villain', 'posses', 'voic', 'turn', 'dark', 'evil', 'think', 'incred', 'stupid', \"wendy'\", 'brenda', 'song', 'teacher', 'teacher', 'school', 'possess', 'monk', 'pretti', 'ridicul', 'sumamr', 'disappoint', 'movi', 'okay', '10'], ['saw', 'screen', 'movi', 'last', 'night', 'high', 'expect', 'go', 'definit', 'disappoint', 'within', '5', 'minut', 'open', 'william', 'alreadi', 'campaign', 'presid', 'becom', 'presid', 'first', '40', 'minut', 'goe', 'aspect', 'movi', 'first', 'half', 'hour', 'hilari', 'get', 'wrong', 'movi', 'moment', 'first', 'half', 'hour', 'take', 'turn', 'worst', 'becom', 'less', 'comedi', 'thriller', 'drama', 'love', 'stori', '...', 'pointless', 'movi', 'goe', 'nowher', 'stand', 'still', 'good', '30', 'minut', 'laugh', 'interspers', 'consist', 'funni', 'part', 'begin', 'begin', 'one', 'point', 'biggest', 'cheer', 'heard', 'audienc', 'person', 'crowd', 'yell', 'booo', 'confusingli', 'emot', 'scene', 'william', 'give', 'great', 'perform', 'right', 'par', 'comed', 'style', 'walken', 'also', 'deliv', 'strong', 'support', 'role', 'think', 'one', 'charact', 'goe', 'underr', 'lewi', 'black', 'consist', 'vulgar', 'polit', 'funni', 'see', 'tone', 'pg', '13', 'rate', 'overal', 'would', 'pay', 'see', 'movi', 'afteral', 'saw', 'free', 'even', 'disappoint', 'first', 'half', 'hour', 'solid', 'downhil', 'realli', 'fit', 'categori', 'movi', 'realiz', 'half', 'way', 'anyth', 'one-hour', 'comedi', 'central', 'special', '4.5', '10'], ['william', 'hurt', 'may', 'american', 'matine', 'idol', 'anymor', 'still', 'pretti', 'good', 'tast', 'b-movi', 'project', 'play', 'specialist', 'hazard', 'wast', 'clean-up', 'tragic', 'past', 'track', 'perenni', 'loser', 'run', 'play', 'former', 'pretty-boy', 'weller', 'contamin', 'deadli', 'poison', 'current', 'pretty-boy', 'hardi', 'kruger', 'jr', 'possibl', 'handsom', 'dad', 'featur', \"weller'\", 'arrog', 'boss', 'horrifi', 'sequenc', 'chemic', 'product', 'plant', 'get', 'stori', 'move', 'natasha', 'mcelhon', 'slightli', 'wacki', 'govern', 'agent', 'look', 'incid', 'provid', 'inevit', 'high-cheekbon', 'love', 'interest', 'hero', 'hurt', 'michael', 'brandon', 'pop', 'play', 'slimi', 'take-no-prison', 'type', 'whose', 'comeupp', \"can't\", 'wait', 'coca-cola', 'compani', 'win', 'product', 'placement', 'award', '2000', 'soft', 'drink', 'featur', 'throughout', 'product', 'shot', 'lovingli', 'locat', 'winteri', 'picture-postcard', 'hungari'], ['piec', 'crap', 'funni', 'whole', 'movi', 'noth', 'ever', 'happen', 'almost', 'fell', 'asleep', 'case', 'happen', 'movi', 'ralli', 'bad', 'get', '1', 'aw', '10', '2', 'fool', 'like', 'first', 'review', 'wast', 'money', 'time', 'spend', 'stuff', 'point', \"i'm\", 'finish', 'review', 'fill', 'least', 'ten', 'line', 'text', 'go', '...', 'ctrl', 'c', 'ctrl', 'v', ':)', 'piec', 'crap', 'funni', 'whole', 'movi', 'noth', 'ever', 'happen', 'almost', 'fell', 'asleep', 'case', 'happen', 'movi', 'ralli', 'bad', 'get', '1', 'aw', '10', '2', 'fool', 'like', 'first', 'review', 'wast', 'money', 'time', 'spend', 'stuff', 'piec', 'crap', 'funni', 'whole', 'movi', 'noth', 'ever', 'happen', 'almost', 'fell', 'asleep', 'case', 'happen', 'movi', 'ralli', 'bad', 'get', '1', 'aw', '10', '2', 'fool', 'like', 'first', 'review', 'wast', 'money', 'time', 'spend', 'stuff'], ['writer', 'movi', 'see', 'three', 'love', 'origin', 'thought', '2', 'best', 'toler', '3', 'ok', 'noth', 'special', 'hate', 'one', 'dare', 'kill', 'ug', 'certainli', 'ug', 'almost', 'like', 'brother', 'charli', 'number', '2', 'rememb', 'speech', 'charli', 'said', 'leav', 'earth', 'would', 'ug', 'repli', 'charli', 'bounti', 'hunter', 'say', 'one', 'dare', 'writer', 'ignor', 'special', 'bond', 'turn', 'baddi', \"get'\", 'kill', 'charli', 'particularli', 'awkward', 'scene', 'realiz', 'movi', 'get', 'bore', 'fact', 'first', '20', 'minut', 'get', 'new', 'cast', 'wait', 'long', 'find', 'happen', 'charli', 'hero', \"we'v\", 'wait', 'see', 'kept', 'wait', 'say', 'come', \"when'\", 'charli', 'go', 'appear', 'angela', 'basset', 'must', 'best', 'deni', 'ever', 'turkey', 'move', 'futur', 'elimin', 'possibl', 'ever', 'see', 'sequel', 'origin', 'cast', 'time', 'think', 'writer', 'decid', 'movi', 'go', 'last', 'could', 'whatev', 'want', 'movi', 'total', 'line', 'first', 'two', 'even', 'seem', 'like', 'written', 'peopl', 'made', '3', '3', 'least', 'humor', 'could', 'easili', 'seen', 'younger', 'children', '4', 'ugli', 'mean-spirit', 'eric', 'dare', 'particularli', 'cruel', 'unnecessari', 'hate', 'movi', 'hate', 'hate', 'hate', 'hate', 'fact', 'anyon', 'could', 'like', 'hate', 'fact', 'ruin', 'one', 'favorit', 'camp', 'classic', 'give', 'one', 'start', 'simpli', 'imdb.com', 'let', 'give', 'zero'], ['movi', 'realli', 'bad', 'first', 'even', 'follow', 'fact', 'half', 'movi', 'made', 'deputi', 'whose', 'mother', 'one', 'ed', \"gein'\", 'victim', 'act', 'horribl', 'except', 'guy', 'play', 'ed', 'gein', 'hard', 'mess', 'play', 'weird', 'guy', 'though', 'think', 'horribl', 'gave', 'three', 'start', 'actual', 'crime', 'photo', 'best', 'part', 'movi', 'soon', 'introduct', 'movi', 'finish', 'movi', 'went', 'downhil', 'writer', 'movi', 'tri', 'spice', 'need', 'stori', 'ed', 'gein', 'interest', 'enough', 'without', 'falsifi', 'inform'], ['felt', 'asleep', 'watch', 'ticket', 'midnight', 'premier', 'question', 'disturb', 'scene', 'far', 'rememb', 'techno-dance-i-dont-know-what-that-was-scen', 'way', 'end'], ['interest', 'rais', 'flip', 'saw', 'name', 'iphigenia', 'name', 'eugenia', 'thought', 'ok', 'let', 'see', 'glad', 'stay', 'channel', 'wonder', 'wonder', 'stori', 'drama', 'sad', 'top', 'act', 'wonder', 'time', 'watch', 'make', 'sad', 'drivel', 'movi', 'industri', 'put', 'beauti', 'littl', 'gem', 'get', 'pass', 'give', 'iphigenia', 'tri', 'hope', 'enjoy', 'much', 'even', 'gotten', 'children', '27', '25', '20', '17', 'enjoy', 'start', 'slow', 'howev', 'drama', 'build', 'drawn', 'stori', 'watch', 'love', 'film', 'made', 'want', 'shroud', 'greek', 'tragedi', 'patho'], ['love', 'jone', 'cleverli', 'portray', 'young', 'african-american', 'men', 'women', 'clear', 'posit', 'realist', 'sens', 'feel', 'actor', 'actress', 'magnific', 'realli', 'great', 'job', 'captur', 'mood', 'nia', 'long', 'larenz', 'tate', 'work', 'well', 'togeth', 'hope', 'see', 'work', 'two', 'matter', 'fact', 'actor', 'actress', 'fine', 'job', 'would', 'great', 'see', 'anoth', 'romantic-comedi', 'movi', 'compar', 'well-written', 'romant', 'comedi', 'seen', 'movi', 'alreadi', 'strongli', 'recommend', 'definit', 'give', 'anoth', 'perspect', 'life', 'love'], ['funni', 'film', 'like', 'lot', 'cari', 'elw', 'play', 'robin', 'hood', 'tee', 'cours', 'usual', 'good', 'vs', 'evil', 'robin', 'evil', 'sheriff', 'nottingham', 'humor', 'sort', 'face', 'stuff', 'part', 'still', 'work', 'well', 'comedi', 'night', 'want', 'think', 'much', 'well', 'worth', 'rent']]\n"
     ]
    }
   ],
   "source": [
    "list_of_tweets = []\n",
    "list_of_processed_tweets = []\n",
    "\n",
    "for file in dirFiles:\n",
    "    a_file = open(\"E:\\\\college\\\\level.4\\\\first term\\\\IR\\\\project\\\\myPartProject\\\\Dataset\\\\\"+ file, \"r\")\n",
    "    for line in a_file:\n",
    "        list_of_tweets.append(line)\n",
    "        line_list = process_tweet(line)\n",
    "        list_of_processed_tweets.append(line_list)\n",
    "    a_file.close()\n",
    "    \n",
    "print(list_of_processed_tweets)"
   ]
  },
  {
   "cell_type": "code",
   "execution_count": 7,
   "metadata": {},
   "outputs": [
    {
     "name": "stdout",
     "output_type": "stream",
     "text": [
      "This is an example of a tweet: \n",
      " This movie was so poorly written and directed I fell asleep 30 minutes through the movie. The jokes in the movie are corny and even though the plot is interesting at some angles, it is too far fetched and at some points- ridiculous. If you are 11 or older you will overlook the writing in the movie and be disappointed, but if you are 10 or younger this is a film that will capture your attention and be amazed with all the stunts (which I might add are poorly done) and wish you were some warrior to. The casting in this movie wasn't very good, and the music was very disappointing because it was like they were trying to build up the tension but it didn't fit at all. On a scale of 1-10 (10 being excellent, 1 being horrible) the acting in this movie is a 4. Brenda Song is talented in comedy, but with this kind of movie, in some of the more serious scenes, her acting was laughable. When she made some of her \"fighting\" poses, I started laughing out loud. I think the worst thing about this movie is definitely the directing, for example, the part where her enemy turns out to be the person the evil villain is possesing, how her voice turns dark and evil, I think that was incredibly stupid, and how Wendy's (Brenda Song)teachers were all her teachers at school being possessed by monks, that was pretty ridiculous to. So to sumamrize it all, a disappointing movie, but okay if you're 10 or under.\n",
      "\n",
      "This is an example of the processed version of the tweet: \n",
      " ['movi', 'poorli', 'written', 'direct', 'fell', 'asleep', '30', 'minut', 'movi', 'joke', 'movi', 'corni', 'even', 'though', 'plot', 'interest', 'angl', 'far', 'fetch', 'point', 'ridicul', '11', 'older', 'overlook', 'write', 'movi', 'disappoint', '10', 'younger', 'film', 'captur', 'attent', 'amaz', 'stunt', 'might', 'add', 'poorli', 'done', 'wish', 'warrior', 'cast', 'movi', 'good', 'music', 'disappoint', 'like', 'tri', 'build', 'tension', 'fit', 'scale', '1-10', '10', 'excel', '1', 'horribl', 'act', 'movi', '4', 'brenda', 'song', 'talent', 'comedi', 'kind', 'movi', 'seriou', 'scene', 'act', 'laughabl', 'made', 'fight', 'pose', 'start', 'laugh', 'loud', 'think', 'worst', 'thing', 'movi', 'definit', 'direct', 'exampl', 'part', 'enemi', 'turn', 'person', 'evil', 'villain', 'posses', 'voic', 'turn', 'dark', 'evil', 'think', 'incred', 'stupid', \"wendy'\", 'brenda', 'song', 'teacher', 'teacher', 'school', 'possess', 'monk', 'pretti', 'ridicul', 'sumamr', 'disappoint', 'movi', 'okay', '10']\n"
     ]
    }
   ],
   "source": [
    "# test the function below\n",
    "print('This is an example of a tweet: \\n', list_of_tweets[0])\n",
    "print('\\nThis is an example of the processed version of the tweet: \\n', list_of_processed_tweets[0])"
   ]
  },
  {
   "cell_type": "code",
   "execution_count": null,
   "metadata": {},
   "outputs": [],
   "source": []
  }
 ],
 "metadata": {
  "kernelspec": {
   "display_name": "Python 3",
   "language": "python",
   "name": "python3"
  },
  "language_info": {
   "codemirror_mode": {
    "name": "ipython",
    "version": 3
   },
   "file_extension": ".py",
   "mimetype": "text/x-python",
   "name": "python",
   "nbconvert_exporter": "python",
   "pygments_lexer": "ipython3",
   "version": "3.7.6"
  }
 },
 "nbformat": 4,
 "nbformat_minor": 4
}
